{
 "cells": [
  {
   "cell_type": "raw",
   "id": "8284e452",
   "metadata": {},
   "source": [
    "Les import nécessaires :"
   ]
  },
  {
   "cell_type": "code",
   "execution_count": 14,
   "id": "c0484e8d",
   "metadata": {},
   "outputs": [],
   "source": [
    "from pymatgen.ext.matproj import MPRester\n",
    "from pymatgen.symmetry.analyzer import SpacegroupAnalyzer\n"
   ]
  },
  {
   "cell_type": "raw",
   "id": "0ac95552",
   "metadata": {},
   "source": [
    "Téléchargement de mon fichier CIF : "
   ]
  },
  {
   "cell_type": "code",
   "execution_count": 15,
   "id": "2bedd385",
   "metadata": {},
   "outputs": [],
   "source": [
    "\n",
    "with MPRester(\"AzOW60LLLKSgtVAVUq4\") as m:\n",
    "\n",
    "    # Structure for material id\n",
    "    structure = m.get_structure_by_material_id(\"mp-961678\")\n"
   ]
  },
  {
   "cell_type": "raw",
   "id": "926b46b3",
   "metadata": {},
   "source": [
    "Vecteurs de bases du réseau direct :"
   ]
  },
  {
   "cell_type": "code",
   "execution_count": 16,
   "id": "77e810ea",
   "metadata": {},
   "outputs": [
    {
     "name": "stdout",
     "output_type": "stream",
     "text": [
      "Les vecteurs de bases (a,b,c) du réseau direct sont : \n",
      "0.000000 3.039410 3.039410\n",
      "3.039410 0.000000 3.039410\n",
      "3.039410 3.039410 0.000000\n"
     ]
    }
   ],
   "source": [
    "print(\"Les vecteurs de bases (a,b,c) du réseau direct sont : \")\n",
    "print(structure.lattice)"
   ]
  },
  {
   "cell_type": "raw",
   "id": "37f2846c",
   "metadata": {},
   "source": [
    "Vecteurs de bases du réseau réciproque :"
   ]
  },
  {
   "cell_type": "code",
   "execution_count": 17,
   "id": "b8f5f30c",
   "metadata": {},
   "outputs": [
    {
     "name": "stdout",
     "output_type": "stream",
     "text": [
      "Les vecteurs de bases (a*,b*,c*) du réseau réciproque sont : \n",
      "-1.033619 1.033619 1.033619\n",
      "1.033619 -1.033619 1.033619\n",
      "1.033619 1.033619 -1.033619\n"
     ]
    }
   ],
   "source": [
    "print(\"Les vecteurs de bases (a*,b*,c*) du réseau réciproque sont : \")\n",
    "print(structure.lattice.reciprocal_lattice)"
   ]
  },
  {
   "cell_type": "raw",
   "id": "658cb275",
   "metadata": {},
   "source": [
    "Le type de maille : "
   ]
  },
  {
   "cell_type": "code",
   "execution_count": 18,
   "id": "f49ae176",
   "metadata": {},
   "outputs": [
    {
     "name": "stdout",
     "output_type": "stream",
     "text": [
      "Son type de maille est :\n",
      "cubic\n"
     ]
    }
   ],
   "source": [
    "print(\"Son type de maille est :\")\n",
    "print(SpacegroupAnalyzer(structure).get_lattice_type())"
   ]
  },
  {
   "cell_type": "raw",
   "id": "8f604cdc",
   "metadata": {},
   "source": [
    "Le système cristallin : "
   ]
  },
  {
   "cell_type": "code",
   "execution_count": 19,
   "id": "7b6dccaa",
   "metadata": {},
   "outputs": [
    {
     "name": "stdout",
     "output_type": "stream",
     "text": [
      "Son système cristallin est : \n",
      "cubic\n"
     ]
    }
   ],
   "source": [
    "print(\"Son système cristallin est : \")\n",
    "print(SpacegroupAnalyzer(structure).get_crystal_system())"
   ]
  },
  {
   "cell_type": "raw",
   "id": "758d4e77",
   "metadata": {},
   "source": [
    "Le groupe ponctuel : "
   ]
  },
  {
   "cell_type": "code",
   "execution_count": 20,
   "id": "c0354113",
   "metadata": {},
   "outputs": [
    {
     "name": "stdout",
     "output_type": "stream",
     "text": [
      "Son groupe ponctuel est :\n",
      "-43m\n"
     ]
    }
   ],
   "source": [
    "print(\"Son groupe ponctuel est :\")\n",
    "print(SpacegroupAnalyzer(structure).get_point_group_symbol())"
   ]
  }
 ],
 "metadata": {
  "kernelspec": {
   "display_name": "Python 3",
   "language": "python",
   "name": "python3"
  },
  "language_info": {
   "codemirror_mode": {
    "name": "ipython",
    "version": 3
   },
   "file_extension": ".py",
   "mimetype": "text/x-python",
   "name": "python",
   "nbconvert_exporter": "python",
   "pygments_lexer": "ipython3",
   "version": "3.6.8"
  }
 },
 "nbformat": 4,
 "nbformat_minor": 5
}
